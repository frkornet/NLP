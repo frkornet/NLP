{
 "cells": [
  {
   "cell_type": "markdown",
   "metadata": {},
   "source": [
    "# Preparing CSVs for Classification"
   ]
  },
  {
   "cell_type": "code",
   "execution_count": 1,
   "metadata": {},
   "outputs": [],
   "source": [
    "# Necessary Imports\n",
    "import pandas as pd\n",
    "import os"
   ]
  },
  {
   "cell_type": "code",
   "execution_count": 2,
   "metadata": {},
   "outputs": [],
   "source": [
    "# Reading the text data from the directories. Each review is a text file.\n",
    "# Code is from https://www.kaggle.com/praveenkotha2/end-to-end-text-processing-for-beginners\n",
    "\n",
    "# If statement prevents doing all this if the csvs already exist\n",
    "if not (os.path.isfile('data/reviews_train.csv' and 'data/reviews_test.csv')):\n",
    "    path = 'data/' \n",
    "    train_text = []\n",
    "    train_label = []\n",
    "    test_text = []\n",
    "    test_label = []\n",
    "    train_data_path_pos = os.path.join(path,'train/pos/')\n",
    "    train_data_path_neg = os.path.join(path,'train/neg/')\n",
    "\n",
    "    for data in ['train','test']:\n",
    "        for label in ['pos','neg']:\n",
    "            for file in sorted(os.listdir(os.path.join(path,data,label))):\n",
    "                if file.endswith('.txt'):\n",
    "                    with open(os.path.join(path,data,label,file)) as file_data:\n",
    "                        if data=='train':\n",
    "                            train_text.append(file_data.read())\n",
    "                            train_label.append( 1 if label== 'pos' else 0)\n",
    "                        else :\n",
    "                            test_text.append(file_data.read())\n",
    "                            test_label.append( 1 if label== 'pos' else 0)\n",
    "\n",
    "    train_df = pd.DataFrame({'Review': train_text, 'Label': train_label})\n",
    "    test_df = pd.DataFrame({'Review': test_text, 'Label': test_label})\n",
    "    train_df = train_df.sample(frac=1).reset_index(drop=True)\n",
    "    test_df = test_df.sample(frac=1).reset_index(drop=True)\n",
    "    \n",
    "    train_df.to_csv('reviews_train.csv')\n",
    "    test_df.to_csv('reviews_test.csv')\n",
    "\n",
    "# Else statement reads in csvs if they've been prepared\n",
    "else:\n",
    "    train_df = pd.read_csv(\"data/reviews_train.csv\", index_col=0)\n",
    "    test_df = pd.read_csv(\"data/reviews_test.csv\", index_col=0)"
   ]
  },
  {
   "cell_type": "markdown",
   "metadata": {},
   "source": [
    "### Cleaning\n",
    "\n",
    "Checking for nulls and duplicates"
   ]
  },
  {
   "cell_type": "code",
   "execution_count": 3,
   "metadata": {},
   "outputs": [
    {
     "name": "stdout",
     "output_type": "stream",
     "text": [
      "(25000, 2)\n",
      "(25000, 2)\n"
     ]
    }
   ],
   "source": [
    "print(train_df.shape)\n",
    "print(test_df.shape)"
   ]
  },
  {
   "cell_type": "code",
   "execution_count": 4,
   "metadata": {
    "scrolled": true
   },
   "outputs": [
    {
     "name": "stdout",
     "output_type": "stream",
     "text": [
      "<class 'pandas.core.frame.DataFrame'>\n",
      "Int64Index: 25000 entries, 0 to 24999\n",
      "Data columns (total 2 columns):\n",
      "Review    25000 non-null object\n",
      "Label     25000 non-null int64\n",
      "dtypes: int64(1), object(1)\n",
      "memory usage: 585.9+ KB\n",
      "None\n"
     ]
    },
    {
     "data": {
      "text/html": [
       "<div>\n",
       "<style scoped>\n",
       "    .dataframe tbody tr th:only-of-type {\n",
       "        vertical-align: middle;\n",
       "    }\n",
       "\n",
       "    .dataframe tbody tr th {\n",
       "        vertical-align: top;\n",
       "    }\n",
       "\n",
       "    .dataframe thead th {\n",
       "        text-align: right;\n",
       "    }\n",
       "</style>\n",
       "<table border=\"1\" class=\"dataframe\">\n",
       "  <thead>\n",
       "    <tr style=\"text-align: right;\">\n",
       "      <th></th>\n",
       "      <th>Review</th>\n",
       "      <th>Label</th>\n",
       "    </tr>\n",
       "  </thead>\n",
       "  <tbody>\n",
       "    <tr>\n",
       "      <td>0</td>\n",
       "      <td>If I accidentally stumbled across this script ...</td>\n",
       "      <td>0</td>\n",
       "    </tr>\n",
       "    <tr>\n",
       "      <td>1</td>\n",
       "      <td>This film, was one of my childhood favorites a...</td>\n",
       "      <td>1</td>\n",
       "    </tr>\n",
       "    <tr>\n",
       "      <td>2</td>\n",
       "      <td>this movie just goes to show that you dont nee...</td>\n",
       "      <td>1</td>\n",
       "    </tr>\n",
       "    <tr>\n",
       "      <td>3</td>\n",
       "      <td>This may be one of the worst movies to ever ma...</td>\n",
       "      <td>0</td>\n",
       "    </tr>\n",
       "    <tr>\n",
       "      <td>4</td>\n",
       "      <td>OK I caught this film halfway through, but.oh....</td>\n",
       "      <td>0</td>\n",
       "    </tr>\n",
       "  </tbody>\n",
       "</table>\n",
       "</div>"
      ],
      "text/plain": [
       "                                              Review  Label\n",
       "0  If I accidentally stumbled across this script ...      0\n",
       "1  This film, was one of my childhood favorites a...      1\n",
       "2  this movie just goes to show that you dont nee...      1\n",
       "3  This may be one of the worst movies to ever ma...      0\n",
       "4  OK I caught this film halfway through, but.oh....      0"
      ]
     },
     "execution_count": 4,
     "metadata": {},
     "output_type": "execute_result"
    }
   ],
   "source": [
    "print(train_df.info())\n",
    "train_df.head()\n",
    "# No nulls in train"
   ]
  },
  {
   "cell_type": "code",
   "execution_count": 5,
   "metadata": {},
   "outputs": [
    {
     "name": "stdout",
     "output_type": "stream",
     "text": [
      "<class 'pandas.core.frame.DataFrame'>\n",
      "Int64Index: 25000 entries, 0 to 24999\n",
      "Data columns (total 2 columns):\n",
      "Review    25000 non-null object\n",
      "Label     25000 non-null int64\n",
      "dtypes: int64(1), object(1)\n",
      "memory usage: 585.9+ KB\n",
      "None\n"
     ]
    },
    {
     "data": {
      "text/html": [
       "<div>\n",
       "<style scoped>\n",
       "    .dataframe tbody tr th:only-of-type {\n",
       "        vertical-align: middle;\n",
       "    }\n",
       "\n",
       "    .dataframe tbody tr th {\n",
       "        vertical-align: top;\n",
       "    }\n",
       "\n",
       "    .dataframe thead th {\n",
       "        text-align: right;\n",
       "    }\n",
       "</style>\n",
       "<table border=\"1\" class=\"dataframe\">\n",
       "  <thead>\n",
       "    <tr style=\"text-align: right;\">\n",
       "      <th></th>\n",
       "      <th>Review</th>\n",
       "      <th>Label</th>\n",
       "    </tr>\n",
       "  </thead>\n",
       "  <tbody>\n",
       "    <tr>\n",
       "      <td>0</td>\n",
       "      <td>This film is a good companion to Blair Witch, ...</td>\n",
       "      <td>0</td>\n",
       "    </tr>\n",
       "    <tr>\n",
       "      <td>1</td>\n",
       "      <td>Stanwyck and Morgan are perfectly cast in what...</td>\n",
       "      <td>1</td>\n",
       "    </tr>\n",
       "    <tr>\n",
       "      <td>2</td>\n",
       "      <td>Coming from the \"druggie\" generation, I though...</td>\n",
       "      <td>1</td>\n",
       "    </tr>\n",
       "    <tr>\n",
       "      <td>3</td>\n",
       "      <td>It's a shame that quality actors like Baldwin ...</td>\n",
       "      <td>0</td>\n",
       "    </tr>\n",
       "    <tr>\n",
       "      <td>4</td>\n",
       "      <td>Two years after this short, the last \"Our Gang...</td>\n",
       "      <td>0</td>\n",
       "    </tr>\n",
       "  </tbody>\n",
       "</table>\n",
       "</div>"
      ],
      "text/plain": [
       "                                              Review  Label\n",
       "0  This film is a good companion to Blair Witch, ...      0\n",
       "1  Stanwyck and Morgan are perfectly cast in what...      1\n",
       "2  Coming from the \"druggie\" generation, I though...      1\n",
       "3  It's a shame that quality actors like Baldwin ...      0\n",
       "4  Two years after this short, the last \"Our Gang...      0"
      ]
     },
     "execution_count": 5,
     "metadata": {},
     "output_type": "execute_result"
    }
   ],
   "source": [
    "print(test_df.info())\n",
    "test_df.head()\n",
    "# No nulls in test"
   ]
  },
  {
   "cell_type": "code",
   "execution_count": 6,
   "metadata": {},
   "outputs": [
    {
     "name": "stdout",
     "output_type": "stream",
     "text": [
      "Number of duplicates in the train set:  96\n"
     ]
    },
    {
     "data": {
      "text/html": [
       "<div>\n",
       "<style scoped>\n",
       "    .dataframe tbody tr th:only-of-type {\n",
       "        vertical-align: middle;\n",
       "    }\n",
       "\n",
       "    .dataframe tbody tr th {\n",
       "        vertical-align: top;\n",
       "    }\n",
       "\n",
       "    .dataframe thead th {\n",
       "        text-align: right;\n",
       "    }\n",
       "</style>\n",
       "<table border=\"1\" class=\"dataframe\">\n",
       "  <thead>\n",
       "    <tr style=\"text-align: right;\">\n",
       "      <th></th>\n",
       "      <th>Review</th>\n",
       "      <th>Label</th>\n",
       "    </tr>\n",
       "  </thead>\n",
       "  <tbody>\n",
       "    <tr>\n",
       "      <td>2829</td>\n",
       "      <td>'Dead Letter Office' is a low-budget film abou...</td>\n",
       "      <td>0</td>\n",
       "    </tr>\n",
       "    <tr>\n",
       "      <td>3156</td>\n",
       "      <td>German filmmaker Ulli Lommel has managed a tas...</td>\n",
       "      <td>0</td>\n",
       "    </tr>\n",
       "    <tr>\n",
       "      <td>3178</td>\n",
       "      <td>This film was so amateurish I could hardly bel...</td>\n",
       "      <td>0</td>\n",
       "    </tr>\n",
       "    <tr>\n",
       "      <td>3644</td>\n",
       "      <td>Bette Midler is indescribable in this concert....</td>\n",
       "      <td>1</td>\n",
       "    </tr>\n",
       "    <tr>\n",
       "      <td>3778</td>\n",
       "      <td>A have a female friend who is currently being ...</td>\n",
       "      <td>1</td>\n",
       "    </tr>\n",
       "  </tbody>\n",
       "</table>\n",
       "</div>"
      ],
      "text/plain": [
       "                                                 Review  Label\n",
       "2829  'Dead Letter Office' is a low-budget film abou...      0\n",
       "3156  German filmmaker Ulli Lommel has managed a tas...      0\n",
       "3178  This film was so amateurish I could hardly bel...      0\n",
       "3644  Bette Midler is indescribable in this concert....      1\n",
       "3778  A have a female friend who is currently being ...      1"
      ]
     },
     "execution_count": 6,
     "metadata": {},
     "output_type": "execute_result"
    }
   ],
   "source": [
    "# Checking for duplicates in the train set - 96\n",
    "print(\"Number of duplicates in the train set: \", train_df.duplicated().sum())\n",
    "train_dups = train_df[train_df.duplicated([\"Review\"])]\n",
    "train_dups.head()"
   ]
  },
  {
   "cell_type": "code",
   "execution_count": 7,
   "metadata": {
    "scrolled": true
   },
   "outputs": [
    {
     "name": "stdout",
     "output_type": "stream",
     "text": [
      "Number of duplicates in the test set:  199\n"
     ]
    },
    {
     "data": {
      "text/html": [
       "<div>\n",
       "<style scoped>\n",
       "    .dataframe tbody tr th:only-of-type {\n",
       "        vertical-align: middle;\n",
       "    }\n",
       "\n",
       "    .dataframe tbody tr th {\n",
       "        vertical-align: top;\n",
       "    }\n",
       "\n",
       "    .dataframe thead th {\n",
       "        text-align: right;\n",
       "    }\n",
       "</style>\n",
       "<table border=\"1\" class=\"dataframe\">\n",
       "  <thead>\n",
       "    <tr style=\"text-align: right;\">\n",
       "      <th></th>\n",
       "      <th>Review</th>\n",
       "      <th>Label</th>\n",
       "    </tr>\n",
       "  </thead>\n",
       "  <tbody>\n",
       "    <tr>\n",
       "      <td>1570</td>\n",
       "      <td>Please, If you're thinking about renting this ...</td>\n",
       "      <td>0</td>\n",
       "    </tr>\n",
       "    <tr>\n",
       "      <td>1829</td>\n",
       "      <td>The Hand of Death aka Countdown in Kung Fu (19...</td>\n",
       "      <td>1</td>\n",
       "    </tr>\n",
       "    <tr>\n",
       "      <td>3333</td>\n",
       "      <td>I am insulted and angry over the idea that a s...</td>\n",
       "      <td>0</td>\n",
       "    </tr>\n",
       "    <tr>\n",
       "      <td>3903</td>\n",
       "      <td>\"Three\" is a seriously dumb shipwreck movie. M...</td>\n",
       "      <td>0</td>\n",
       "    </tr>\n",
       "    <tr>\n",
       "      <td>5028</td>\n",
       "      <td>I remember when I first heard about Jack Frost...</td>\n",
       "      <td>0</td>\n",
       "    </tr>\n",
       "  </tbody>\n",
       "</table>\n",
       "</div>"
      ],
      "text/plain": [
       "                                                 Review  Label\n",
       "1570  Please, If you're thinking about renting this ...      0\n",
       "1829  The Hand of Death aka Countdown in Kung Fu (19...      1\n",
       "3333  I am insulted and angry over the idea that a s...      0\n",
       "3903  \"Three\" is a seriously dumb shipwreck movie. M...      0\n",
       "5028  I remember when I first heard about Jack Frost...      0"
      ]
     },
     "execution_count": 7,
     "metadata": {},
     "output_type": "execute_result"
    }
   ],
   "source": [
    "# Checking for duplicates in the test set - 199\n",
    "print(\"Number of duplicates in the test set: \", test_df.duplicated().sum())\n",
    "test_dups = test_df[test_df.duplicated([\"Review\"])]\n",
    "test_dups.head()"
   ]
  },
  {
   "cell_type": "code",
   "execution_count": 8,
   "metadata": {
    "scrolled": false
   },
   "outputs": [
    {
     "name": "stdout",
     "output_type": "stream",
     "text": [
      "New length of train set:  24904\n",
      "New length of test set:  24801\n"
     ]
    }
   ],
   "source": [
    "# Removing duplicates\n",
    "train_nodups = train_df.drop_duplicates(keep='first')\n",
    "print(\"New length of train set: \", len(train_nodups)) # 24904\n",
    "\n",
    "test_nodups = test_df.drop_duplicates(keep='first')\n",
    "print(\"New length of test set: \", len(test_nodups)) # 24801"
   ]
  },
  {
   "cell_type": "code",
   "execution_count": 9,
   "metadata": {},
   "outputs": [
    {
     "name": "stdout",
     "output_type": "stream",
     "text": [
      "Train Without Duplicates: \n",
      "1    12472\n",
      "0    12432\n",
      "Name: Label, dtype: int64 \n",
      "\n",
      "Test Without Duplicates: \n",
      "1    12440\n",
      "0    12361\n",
      "Name: Label, dtype: int64\n"
     ]
    }
   ],
   "source": [
    "# Checking the distributions of our target after removing duplicates\n",
    "print(\"Train Without Duplicates: \\n{} \\n\".format(\n",
    "    train_nodups[\"Label\"].value_counts()))\n",
    "print(\"Test Without Duplicates: \\n{}\".format(\n",
    "    test_nodups[\"Label\"].value_counts()))\n",
    "\n",
    "# They're still fairly even (train: 12472 vs 12432, test: 12440 vs. 12361)"
   ]
  },
  {
   "cell_type": "code",
   "execution_count": 10,
   "metadata": {
    "scrolled": true
   },
   "outputs": [
    {
     "name": "stdout",
     "output_type": "stream",
     "text": [
      "Number of shared reviews between train and test sets:  123\n"
     ]
    }
   ],
   "source": [
    "# Creating a df of both train and test to look for duplicates between them\n",
    "total_df = train_nodups.append(test_nodups)\n",
    "print(\"Number of shared reviews between train and test sets: \",\n",
    "      total_df.duplicated().sum())\n",
    "\n",
    "# There are 123 reviews that appear in both the train and test sets..."
   ]
  },
  {
   "cell_type": "code",
   "execution_count": 11,
   "metadata": {},
   "outputs": [],
   "source": [
    "# Creating a list of the duplicated reviews\n",
    "train_test_dups = total_df[total_df.duplicated([\"Review\"])]\n",
    "dup_reviews = train_test_dups[\"Review\"]"
   ]
  },
  {
   "cell_type": "code",
   "execution_count": 12,
   "metadata": {},
   "outputs": [
    {
     "name": "stderr",
     "output_type": "stream",
     "text": [
      "/opt/anaconda3/envs/learn-env/lib/python3.6/site-packages/pandas/core/frame.py:4102: SettingWithCopyWarning: \n",
      "A value is trying to be set on a copy of a slice from a DataFrame\n",
      "\n",
      "See the caveats in the documentation: http://pandas.pydata.org/pandas-docs/stable/user_guide/indexing.html#returning-a-view-versus-a-copy\n",
      "  errors=errors,\n"
     ]
    }
   ],
   "source": [
    "# Creating an empty list for dropped items to check my work\n",
    "dropped_test_index = []\n",
    "\n",
    "# Removing duplicates between train and test from the test set\n",
    "# This is a sloppy way to do this, I'll bet there's a better way\n",
    "for row in test_nodups.index:\n",
    "    if row in dup_reviews.index:\n",
    "        dropped_test_index.append(row)\n",
    "        test_nodups.drop(row, inplace=True)"
   ]
  },
  {
   "cell_type": "code",
   "execution_count": 13,
   "metadata": {
    "scrolled": true
   },
   "outputs": [
    {
     "data": {
      "text/plain": [
       "123"
      ]
     },
     "execution_count": 13,
     "metadata": {},
     "output_type": "execute_result"
    }
   ],
   "source": [
    "# Sanity check\n",
    "len(dropped_test_index)"
   ]
  },
  {
   "cell_type": "code",
   "execution_count": 15,
   "metadata": {},
   "outputs": [
    {
     "name": "stdout",
     "output_type": "stream",
     "text": [
      "New length of train set:  24904\n",
      "Train Without Duplicates: \n",
      "1    12472\n",
      "0    12432\n",
      "Name: Label, dtype: int64 \n",
      "\n",
      "New length of test set:  24678\n",
      "Test Without Duplicates: \n",
      "1    12412\n",
      "0    12266\n",
      "Name: Label, dtype: int64\n"
     ]
    }
   ],
   "source": [
    "# Re-checking distributions and lengths of train and test\n",
    "print(\"New length of train set: \", len(train_nodups)) # 24904\n",
    "print(\"Train Without Duplicates: \\n{} \\n\".format(\n",
    "    train_nodups[\"Label\"].value_counts()))\n",
    "\n",
    "print(\"New length of test set: \", len(test_nodups)) # 24678\n",
    "print(\"Test Without Duplicates: \\n{}\".format(\n",
    "    test_nodups[\"Label\"].value_counts()))\n",
    "\n",
    "# Again, still fairly even (train: 12472 vs. 12432, test: 12412 vs. 12266)"
   ]
  },
  {
   "cell_type": "code",
   "execution_count": 16,
   "metadata": {},
   "outputs": [],
   "source": [
    "# # Creating csvs without duplicates\n",
    "# train_nodups.to_csv('data/clean_train.csv')\n",
    "# test_nodups.to_csv('data/clean_test.csv')"
   ]
  },
  {
   "cell_type": "code",
   "execution_count": 17,
   "metadata": {},
   "outputs": [],
   "source": [
    "# Creating a sample of each set\n",
    "train_sample = train_nodups.sample(n=5000, random_state=123)\n",
    "test_sample = test_nodups.sample(n=5000, random_state=123)"
   ]
  },
  {
   "cell_type": "code",
   "execution_count": 18,
   "metadata": {
    "scrolled": true
   },
   "outputs": [
    {
     "name": "stdout",
     "output_type": "stream",
     "text": [
      "(5000, 2)\n",
      "(5000, 2)\n"
     ]
    }
   ],
   "source": [
    "# Sanity check\n",
    "print(train_sample.shape)\n",
    "print(test_sample.shape)"
   ]
  },
  {
   "cell_type": "code",
   "execution_count": 19,
   "metadata": {},
   "outputs": [
    {
     "name": "stdout",
     "output_type": "stream",
     "text": [
      "Train Sample: \n",
      "0    2515\n",
      "1    2485\n",
      "Name: Label, dtype: int64 \n",
      "\n",
      "Test Sample: \n",
      "0    2556\n",
      "1    2444\n",
      "Name: Label, dtype: int64\n"
     ]
    }
   ],
   "source": [
    "# Checking the distributions of our target after sampling\n",
    "print(\"Train Sample: \\n{} \\n\".format(train_sample[\"Label\"].value_counts()))\n",
    "print(\"Test Sample: \\n{}\".format(test_sample[\"Label\"].value_counts()))\n",
    "\n",
    "# They're still fairly even (train: 2515 vs. 2485, test: 2556 vs. 2444)"
   ]
  },
  {
   "cell_type": "code",
   "execution_count": 20,
   "metadata": {},
   "outputs": [],
   "source": [
    "# # Creating clean sample csvs\n",
    "# train_sample.to_csv('clean_train_sample.csv')\n",
    "# test_sample.to_csv('clean_test_sample.csv')"
   ]
  },
  {
   "cell_type": "code",
   "execution_count": null,
   "metadata": {},
   "outputs": [],
   "source": []
  }
 ],
 "metadata": {
  "kernelspec": {
   "display_name": "Python 3",
   "language": "python",
   "name": "python3"
  },
  "language_info": {
   "codemirror_mode": {
    "name": "ipython",
    "version": 3
   },
   "file_extension": ".py",
   "mimetype": "text/x-python",
   "name": "python",
   "nbconvert_exporter": "python",
   "pygments_lexer": "ipython3",
   "version": "3.7.5"
  }
 },
 "nbformat": 4,
 "nbformat_minor": 2
}
